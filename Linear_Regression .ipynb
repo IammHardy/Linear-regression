{
 "cells": [
  {
   "cell_type": "code",
   "execution_count": 1,
   "id": "e9e1dedb",
   "metadata": {},
   "outputs": [],
   "source": [
    "import numpy as np\n",
    "import pandas as pd \n",
    "from matplotlib import pyplot as plt\n",
    "from sklearn.model_selection import train_test_split"
   ]
  },
  {
   "cell_type": "code",
   "execution_count": 3,
   "id": "51ff907e",
   "metadata": {},
   "outputs": [],
   "source": [
    "class ScratchLinearRegression:\n",
    "    \"\"\"\n",
    "    Scratch implementation of linear regression\n",
    "    \n",
    "    Parameters\n",
    "    ----------\n",
    "    num_iter : int\n",
    "      Number of iterations\n",
    "    lr : float\n",
    "      Learning rate\n",
    "    no_bias : bool\n",
    "      True if no bias term is included\n",
    "    verbose : bool\n",
    "      True to output the learning process\n",
    "    \n",
    "    Attributes\n",
    "    ----------\n",
    "    self.coef_ : of the following form. ndarray, shape (n_features,)\n",
    "      Parameters\n",
    "    self.loss : of the following form. ndarray, shape (self.iter,)\n",
    "      Record losses on training data\n",
    "    self.val_loss : of the following form. ndarray, shape (self.iter,)\n",
    "      Record loss on validation data\n",
    "\n",
    "    self.theta : \n",
    "    \"\"\"\n",
    "    def __init__(self, num_iter=100, no_bias=False, lr=1e-3, verbose=False):\n",
    "        self.num_iter = num_iter\n",
    "        self.no_bias = no_bias\n",
    "        self.lr = lr\n",
    "        self.verbose = verbose\n",
    "\n",
    "        #attributes\n",
    "        #self.coef_ = np.array([])\n",
    "        self.loss = np.array([])\n",
    "        self.val_loss = np.array([])\n",
    "        self.theta = np.array([])\n",
    "\n",
    "    def fit(self, X, y, X_val=None, y_val=None):\n",
    "        \"\"\"\n",
    "        Learn linear regression. If validation data is entered, the loss and accuracy for it are also calculated for each iteration.\n",
    "        Parameters\n",
    "        ----------\n",
    "        X : of the following form. ndarray, shape (n_samples, n_features)\n",
    "            Features of training data\n",
    "        y : of the following form. ndarray, shape (n_samples, )\n",
    "            Correct answer value of training data\n",
    "        X_val : of the following form. ndarray, shape (n_samples, n_features)\n",
    "            Features of verification data\n",
    "        y_val : of the following form. ndarray, shape (n_samples, )\n",
    "            Correct value of verification data\n",
    "        \"\"\"\n",
    "\n",
    "        if self.no_bias == True:\n",
    "            a = np.ones(X.shape[0]).reshape((-1, 1))\n",
    "            X = np.hstack([a, X])\n",
    "\n",
    "        self.theta = np.zeros(X.shape[1]).reshape((-1, 1))\n",
    "        for i in range(self.num_iter):\n",
    "            self.gradient_descent(X, y)  \n",
    "            pred =  self._linear_hypothesis(X)\n",
    "                \n",
    "            loss = self.lossFunc(pred, y)\n",
    "            self.loss = np.append(self.loss, loss)\n",
    "            if self.verbose:\n",
    "                #Output learning process when verbose is set to True\n",
    "                print(f\"At {i} iteration learning mse {loss}\")\n",
    "# problem 3        \n",
    "    def predict(self, X):\n",
    "        \"\"\"\n",
    "        Estimate using linear regression.\n",
    "        Parameters\n",
    "        ----------\n",
    "        X : of the following form. ndarray, shape (n_samples, n_features)\n",
    "            sample\n",
    "        Returns\n",
    "        -------\n",
    "            of the following form. ndarray, shape (n_samples, 1)\n",
    "            Estimated result by linear regression\n",
    "        \"\"\"\n",
    "        if self.no_bias == True:\n",
    "            a = np.ones(X.shape[0]).reshape((-1, 1))\n",
    "            X = np.hstack([a, X])\n",
    "        pred = self._linear_hypothesis(X)\n",
    "\n",
    "        pred = pred.ravel()\n",
    "        return pred\n",
    "\n",
    "# problem 1\n",
    "    def _linear_hypothesis(self, x):\n",
    "        \"\"\"\n",
    "        Compute a linear hypothetical function\n",
    "\n",
    "        Parameters\n",
    "        ----------\n",
    "        X : of the following form. ndarray, shape (n_samples, n_features)\n",
    "        Training data\n",
    "\n",
    "        Returns\n",
    "        -------\n",
    "        of the following form. ndarray, shape (n_samples, 1)\n",
    "        Estimated result by linear hypothetical function\n",
    "\n",
    "        \"\"\"\n",
    "        return x @ self.theta\n",
    "# problem 2  \n",
    "    def gradient_descent(self, x, y):\n",
    "        \"\"\"\n",
    "        Compute the hypothetical values of the linear function\n",
    "\n",
    "        Parameters\n",
    "        ------\n",
    "        x: Features for model training\n",
    "        y: Target variable\n",
    "\n",
    "        Returns\n",
    "        ------\n",
    "        None\n",
    "        \"\"\"\n",
    "        rows = x.shape[0]\n",
    "        columns = x.shape[1]\n",
    "        pred = self._linear_hypothesis(x)\n",
    "\n",
    "        for column in range(columns):\n",
    "            gradient = np.array([])\n",
    "            for row in range(rows):\n",
    "                a = (pred[row] - y[row]) * x[row, column]\n",
    "                gradient = np.append(gradient, a)\n",
    "            gradient = gradient.sum()\n",
    "            self.theta[column] = self.theta[column] - ((self.lr * gradient)/rows)\n",
    "# Problem 4    \n",
    "    def MSE(self, y_pred, y):\n",
    "        \"\"\"\n",
    "        Calculation of mean square error\n",
    "\n",
    "        Parameters\n",
    "        ----------\n",
    "        y_pred : of the following form. ndarray, shape (n_samples,)\n",
    "        Estimated value\n",
    "        y : of the following form. ndarray, shape (n_samples,)\n",
    "        Correct answer value\n",
    "\n",
    "        Returns\n",
    "        ----------\n",
    "        mse : numpy.float\n",
    "        Mean squared error\n",
    "        \"\"\"\n",
    "        error = (y_pred - y)**2\n",
    "        mse = np.average(error)\n",
    "        return mse\n",
    "    \n",
    "    def lossFunc(self, y_pred, y):\n",
    "        loss = self.MSE(y_pred, y) / len(y)   \n",
    "\n",
    "        return loss\n",
    "    \n",
    "                "
   ]
  },
  {
   "cell_type": "code",
   "execution_count": 4,
   "id": "11566029",
   "metadata": {},
   "outputs": [
    {
     "data": {
      "text/html": [
       "<div>\n",
       "<style scoped>\n",
       "    .dataframe tbody tr th:only-of-type {\n",
       "        vertical-align: middle;\n",
       "    }\n",
       "\n",
       "    .dataframe tbody tr th {\n",
       "        vertical-align: top;\n",
       "    }\n",
       "\n",
       "    .dataframe thead th {\n",
       "        text-align: right;\n",
       "    }\n",
       "</style>\n",
       "<table border=\"1\" class=\"dataframe\">\n",
       "  <thead>\n",
       "    <tr style=\"text-align: right;\">\n",
       "      <th></th>\n",
       "      <th>Id</th>\n",
       "      <th>MSSubClass</th>\n",
       "      <th>MSZoning</th>\n",
       "      <th>LotFrontage</th>\n",
       "      <th>LotArea</th>\n",
       "      <th>Street</th>\n",
       "      <th>Alley</th>\n",
       "      <th>LotShape</th>\n",
       "      <th>LandContour</th>\n",
       "      <th>Utilities</th>\n",
       "      <th>...</th>\n",
       "      <th>PoolArea</th>\n",
       "      <th>PoolQC</th>\n",
       "      <th>Fence</th>\n",
       "      <th>MiscFeature</th>\n",
       "      <th>MiscVal</th>\n",
       "      <th>MoSold</th>\n",
       "      <th>YrSold</th>\n",
       "      <th>SaleType</th>\n",
       "      <th>SaleCondition</th>\n",
       "      <th>SalePrice</th>\n",
       "    </tr>\n",
       "  </thead>\n",
       "  <tbody>\n",
       "    <tr>\n",
       "      <th>0</th>\n",
       "      <td>1</td>\n",
       "      <td>60</td>\n",
       "      <td>RL</td>\n",
       "      <td>65.0</td>\n",
       "      <td>8450</td>\n",
       "      <td>Pave</td>\n",
       "      <td>NaN</td>\n",
       "      <td>Reg</td>\n",
       "      <td>Lvl</td>\n",
       "      <td>AllPub</td>\n",
       "      <td>...</td>\n",
       "      <td>0</td>\n",
       "      <td>NaN</td>\n",
       "      <td>NaN</td>\n",
       "      <td>NaN</td>\n",
       "      <td>0</td>\n",
       "      <td>2</td>\n",
       "      <td>2008</td>\n",
       "      <td>WD</td>\n",
       "      <td>Normal</td>\n",
       "      <td>208500</td>\n",
       "    </tr>\n",
       "    <tr>\n",
       "      <th>1</th>\n",
       "      <td>2</td>\n",
       "      <td>20</td>\n",
       "      <td>RL</td>\n",
       "      <td>80.0</td>\n",
       "      <td>9600</td>\n",
       "      <td>Pave</td>\n",
       "      <td>NaN</td>\n",
       "      <td>Reg</td>\n",
       "      <td>Lvl</td>\n",
       "      <td>AllPub</td>\n",
       "      <td>...</td>\n",
       "      <td>0</td>\n",
       "      <td>NaN</td>\n",
       "      <td>NaN</td>\n",
       "      <td>NaN</td>\n",
       "      <td>0</td>\n",
       "      <td>5</td>\n",
       "      <td>2007</td>\n",
       "      <td>WD</td>\n",
       "      <td>Normal</td>\n",
       "      <td>181500</td>\n",
       "    </tr>\n",
       "    <tr>\n",
       "      <th>2</th>\n",
       "      <td>3</td>\n",
       "      <td>60</td>\n",
       "      <td>RL</td>\n",
       "      <td>68.0</td>\n",
       "      <td>11250</td>\n",
       "      <td>Pave</td>\n",
       "      <td>NaN</td>\n",
       "      <td>IR1</td>\n",
       "      <td>Lvl</td>\n",
       "      <td>AllPub</td>\n",
       "      <td>...</td>\n",
       "      <td>0</td>\n",
       "      <td>NaN</td>\n",
       "      <td>NaN</td>\n",
       "      <td>NaN</td>\n",
       "      <td>0</td>\n",
       "      <td>9</td>\n",
       "      <td>2008</td>\n",
       "      <td>WD</td>\n",
       "      <td>Normal</td>\n",
       "      <td>223500</td>\n",
       "    </tr>\n",
       "    <tr>\n",
       "      <th>3</th>\n",
       "      <td>4</td>\n",
       "      <td>70</td>\n",
       "      <td>RL</td>\n",
       "      <td>60.0</td>\n",
       "      <td>9550</td>\n",
       "      <td>Pave</td>\n",
       "      <td>NaN</td>\n",
       "      <td>IR1</td>\n",
       "      <td>Lvl</td>\n",
       "      <td>AllPub</td>\n",
       "      <td>...</td>\n",
       "      <td>0</td>\n",
       "      <td>NaN</td>\n",
       "      <td>NaN</td>\n",
       "      <td>NaN</td>\n",
       "      <td>0</td>\n",
       "      <td>2</td>\n",
       "      <td>2006</td>\n",
       "      <td>WD</td>\n",
       "      <td>Abnorml</td>\n",
       "      <td>140000</td>\n",
       "    </tr>\n",
       "    <tr>\n",
       "      <th>4</th>\n",
       "      <td>5</td>\n",
       "      <td>60</td>\n",
       "      <td>RL</td>\n",
       "      <td>84.0</td>\n",
       "      <td>14260</td>\n",
       "      <td>Pave</td>\n",
       "      <td>NaN</td>\n",
       "      <td>IR1</td>\n",
       "      <td>Lvl</td>\n",
       "      <td>AllPub</td>\n",
       "      <td>...</td>\n",
       "      <td>0</td>\n",
       "      <td>NaN</td>\n",
       "      <td>NaN</td>\n",
       "      <td>NaN</td>\n",
       "      <td>0</td>\n",
       "      <td>12</td>\n",
       "      <td>2008</td>\n",
       "      <td>WD</td>\n",
       "      <td>Normal</td>\n",
       "      <td>250000</td>\n",
       "    </tr>\n",
       "  </tbody>\n",
       "</table>\n",
       "<p>5 rows × 81 columns</p>\n",
       "</div>"
      ],
      "text/plain": [
       "   Id  MSSubClass MSZoning  LotFrontage  LotArea Street Alley LotShape  \\\n",
       "0   1          60       RL         65.0     8450   Pave   NaN      Reg   \n",
       "1   2          20       RL         80.0     9600   Pave   NaN      Reg   \n",
       "2   3          60       RL         68.0    11250   Pave   NaN      IR1   \n",
       "3   4          70       RL         60.0     9550   Pave   NaN      IR1   \n",
       "4   5          60       RL         84.0    14260   Pave   NaN      IR1   \n",
       "\n",
       "  LandContour Utilities  ... PoolArea PoolQC Fence MiscFeature MiscVal MoSold  \\\n",
       "0         Lvl    AllPub  ...        0    NaN   NaN         NaN       0      2   \n",
       "1         Lvl    AllPub  ...        0    NaN   NaN         NaN       0      5   \n",
       "2         Lvl    AllPub  ...        0    NaN   NaN         NaN       0      9   \n",
       "3         Lvl    AllPub  ...        0    NaN   NaN         NaN       0      2   \n",
       "4         Lvl    AllPub  ...        0    NaN   NaN         NaN       0     12   \n",
       "\n",
       "  YrSold  SaleType  SaleCondition  SalePrice  \n",
       "0   2008        WD         Normal     208500  \n",
       "1   2007        WD         Normal     181500  \n",
       "2   2008        WD         Normal     223500  \n",
       "3   2006        WD        Abnorml     140000  \n",
       "4   2008        WD         Normal     250000  \n",
       "\n",
       "[5 rows x 81 columns]"
      ]
     },
     "execution_count": 4,
     "metadata": {},
     "output_type": "execute_result"
    }
   ],
   "source": [
    "file = \"C:\\\\Users\\\\cbt04\\\\Downloads\\\\train (1).csv\"\n",
    "\n",
    "housing = pd.read_csv(file)\n",
    "\n",
    "housing.head()"
   ]
  },
  {
   "cell_type": "code",
   "execution_count": 5,
   "id": "bc924139",
   "metadata": {},
   "outputs": [],
   "source": [
    "feature = housing[\"GrLivArea\"].values.reshape((-1, 1))\n",
    "target = housing[\"SalePrice\"].values"
   ]
  },
  {
   "cell_type": "code",
   "execution_count": 6,
   "id": "2e9a4d2c",
   "metadata": {},
   "outputs": [],
   "source": [
    "x_train, x_test, y_train, y_test = train_test_split(feature, target, train_size=0.2, random_state=123)"
   ]
  },
  {
   "cell_type": "markdown",
   "id": "dfda477e",
   "metadata": {},
   "source": [
    "Problem 6"
   ]
  },
  {
   "cell_type": "code",
   "execution_count": 7,
   "id": "4df4bb9a",
   "metadata": {},
   "outputs": [],
   "source": [
    "model = ScratchLinearRegression(num_iter=1000, lr=1e-7, no_bias=True)\n",
    "model.fit(x_train, y_train)\n",
    "\n",
    "pred = model.predict(x_test)"
   ]
  },
  {
   "cell_type": "code",
   "execution_count": 8,
   "id": "0eccaf18",
   "metadata": {},
   "outputs": [
    {
     "data": {
      "text/plain": [
       "Text(0.5, 1.0, 'Actual value vs Prediction')"
      ]
     },
     "execution_count": 8,
     "metadata": {},
     "output_type": "execute_result"
    },
    {
     "data": {
      "image/png": "[encoded data removed]",
      "text/plain": [
       "<Figure size 640x480 with 1 Axes>"
      ]
     },
     "metadata": {},
     "output_type": "display_data"
    }
   ],
   "source": [
    "plt.scatter(pred, y_test)\n",
    "\n",
    "plt.xlabel(\"prediction\")\n",
    "plt.ylabel(\"True value\")\n",
    "plt.title(\"Actual value vs Prediction\")"
   ]
  },
  {
   "cell_type": "markdown",
   "id": "6ed398d0",
   "metadata": {},
   "source": [
    "Problem 7"
   ]
  },
  {
   "cell_type": "code",
   "execution_count": 9,
   "id": "2216cf57",
   "metadata": {},
   "outputs": [
    {
     "data": {
      "text/plain": [
       "Text(0, 0.5, 'Loss')"
      ]
     },
     "execution_count": 9,
     "metadata": {},
     "output_type": "execute_result"
    },
    {
     "data": {
      "image/png": "[encoded data removed]",
      "text/plain": [
       "<Figure size 640x480 with 1 Axes>"
      ]
     },
     "metadata": {},
     "output_type": "display_data"
    }
   ],
   "source": [
    "plt.plot(model.loss)\n",
    "plt.title(\"Model loss\")\n",
    "plt.xlabel(\"num_iteration\")\n",
    "plt.ylabel(\"Loss\")"
   ]
  },
  {
   "cell_type": "code",
   "execution_count": 10,
   "id": "4b19be19",
   "metadata": {},
   "outputs": [
    {
     "data": {
      "text/plain": [
       "3103101389.495414"
      ]
     },
     "execution_count": 10,
     "metadata": {},
     "output_type": "execute_result"
    }
   ],
   "source": [
    "# mean squar error when bais is set to true\n",
    "T = model.MSE(pred, y_test)\n",
    "T"
   ]
  },
  {
   "cell_type": "markdown",
   "id": "cba117c5",
   "metadata": {},
   "source": [
    "Problem 8"
   ]
  },
  {
   "cell_type": "code",
   "execution_count": 11,
   "id": "4815bd23",
   "metadata": {},
   "outputs": [],
   "source": [
    "model = ScratchLinearRegression(num_iter=1000, lr=1e-7, no_bias=False)\n",
    "model.fit(x_train, y_train)\n",
    "\n",
    "pred = model.predict(x_test)"
   ]
  },
  {
   "cell_type": "code",
   "execution_count": 12,
   "id": "229a9024",
   "metadata": {},
   "outputs": [
    {
     "data": {
      "text/plain": [
       "3103103040.0322943"
      ]
     },
     "execution_count": 12,
     "metadata": {},
     "output_type": "execute_result"
    }
   ],
   "source": [
    "# mean square error when bais is set to false\n",
    "F = model.MSE(pred, y_test)\n",
    "F"
   ]
  },
  {
   "cell_type": "code",
   "execution_count": 13,
   "id": "039bce63",
   "metadata": {},
   "outputs": [
    {
     "name": "stdout",
     "output_type": "stream",
     "text": [
      "When the bias term is used, the model an MSE score 1650.536880493164 better\n"
     ]
    }
   ],
   "source": [
    "print(f\"When the bias term is used, the model an MSE score {(F - T)} better\")"
   ]
  },
  {
   "cell_type": "markdown",
   "id": "fd3b5864",
   "metadata": {},
   "source": [
    "In context of linear regression models, bias refers to the y-intercept of th elinear equation. Without the bias, the model would pass through the origin. It also allows the line to be shifted up or down providing for a more flexible model."
   ]
  },
  {
   "cell_type": "markdown",
   "id": "bb70ea2d",
   "metadata": {},
   "source": [
    "Problem 9"
   ]
  },
  {
   "cell_type": "code",
   "execution_count": 14,
   "id": "ef8780d0",
   "metadata": {},
   "outputs": [],
   "source": [
    "feature = housing[[\"YearBuilt\", \"GrLivArea\"]].values\n",
    "\n",
    "\n",
    "x_train, x_test, y_train, y_test = train_test_split(feature, target, random_state=123)"
   ]
  },
  {
   "cell_type": "code",
   "execution_count": 15,
   "id": "1ba1ab61",
   "metadata": {},
   "outputs": [],
   "source": [
    "model = ScratchLinearRegression(1000, True, 1e-7)\n",
    "\n",
    "model.fit(x_train, y_train)\n",
    "\n",
    "pred = model.predict(x_test)"
   ]
  },
  {
   "cell_type": "code",
   "execution_count": 16,
   "id": "4671af4c",
   "metadata": {},
   "outputs": [
    {
     "data": {
      "text/plain": [
       "<matplotlib.collections.PathCollection at 0x259819536d0>"
      ]
     },
     "execution_count": 16,
     "metadata": {},
     "output_type": "execute_result"
    },
    {
     "data": {
      "image/png": "[encoded data removed]",
      "text/plain": [
       "<Figure size 640x480 with 1 Axes>"
      ]
     },
     "metadata": {},
     "output_type": "display_data"
    }
   ],
   "source": [
    "plt.scatter(pred, y_test)"
   ]
  },
  {
   "cell_type": "code",
   "execution_count": 17,
   "id": "f40f0ce6",
   "metadata": {},
   "outputs": [
    {
     "data": {
      "text/plain": [
       "[<matplotlib.lines.Line2D at 0x259823265d0>]"
      ]
     },
     "execution_count": 17,
     "metadata": {},
     "output_type": "execute_result"
    },
    {
     "data": {
      "image/png": "[encoded data removed]",
      "text/plain": [
       "<Figure size 640x480 with 1 Axes>"
      ]
     },
     "metadata": {},
     "output_type": "display_data"
    }
   ],
   "source": [
    "plt.plot(model.loss)"
   ]
  },
  {
   "cell_type": "markdown",
   "id": "5b464da6",
   "metadata": {},
   "source": [
    "When more fearures where used for to trian the model, there was a significant inprovement in the performance of the model.\n",
    "The model converged at a lower loss value of about, compared to single feature model signifying an improved predictive performance. However, this peromance was not reflected in the accuracy of the prediction as the unidimensional model scored better than the multidimensional model."
   ]
  },
  {
   "cell_type": "code",
   "execution_count": 18,
   "id": "0591fd18",
   "metadata": {},
   "outputs": [
    {
     "name": "stdout",
     "output_type": "stream",
     "text": [
      "Perfomance -13.96%\n"
     ]
    }
   ],
   "source": [
    "# mse of multidimension feature\n",
    "\n",
    "md = model.MSE(pred, y_test)\n",
    "perf = ((md-T)/md)\n",
    "\n",
    "print(f\"Perfomance {perf :.2%}\")"
   ]
  },
  {
   "cell_type": "markdown",
   "id": "4200ab26",
   "metadata": {},
   "source": [
    "Problem 10"
   ]
  },
  {
   "cell_type": "markdown",
   "id": "6da9b62b",
   "metadata": {},
   "source": [
    "The loss function is determined based on the principle of minimizing the difference between the predicted values of the model and the actual values in the training data. The formula is derived from the Mean square error, for every iteration, the loss should reduce approaching 0.\n",
    "The loss is simply the average of the sum of the square of the error. For every iteration, the error of the model should tend towards a limit."
   ]
  },
  {
   "cell_type": "markdown",
   "id": "d63e95e2",
   "metadata": {},
   "source": [
    "Problem 11"
   ]
  },
  {
   "cell_type": "markdown",
   "id": "5201e485",
   "metadata": {},
   "source": [
    "Given that the MSE is the average sum of the square of the error\n",
    "And the gradient descent ia updated by:\n",
    "\n",
    "θ j​=θ j​−α ∂θ / j ∂​MSE(θ)\n",
    "\n",
    "Where α is the learning rate\n",
    "\n",
    "Given that the MSE is a convex function, there is a single global minimum. The shape of the curve ensures that any local minimum is the global minimum.\n",
    "The gradient descent starts from an initial point and takes steps towards the steepest decrease in the objective function. Given a well-chosen learning rate, the gradient descent converges towards the global minimum."
   ]
  },
  {
   "cell_type": "code",
   "execution_count": null,
   "id": "d6060089",
   "metadata": {},
   "outputs": [],
   "source": []
  }
 ],
 "metadata": {
  "kernelspec": {
   "display_name": "Python 3 (ipykernel)",
   "language": "python",
   "name": "python3"
  },
  "language_info": {
   "codemirror_mode": {
    "name": "ipython",
    "version": 3
   },
   "file_extension": ".py",
   "mimetype": "text/x-python",
   "name": "python",
   "nbconvert_exporter": "python",
   "pygments_lexer": "ipython3",
   "version": "3.11.5"
  }
 },
 "nbformat": 4,
 "nbformat_minor": 5
}
